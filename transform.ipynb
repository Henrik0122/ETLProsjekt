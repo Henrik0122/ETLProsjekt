{
 "cells": [
  {
   "cell_type": "code",
   "execution_count": 1,
   "metadata": {},
   "outputs": [],
   "source": [
    "import pandas as pd\n",
    "import numpy as np\n",
    "import json\n",
    "import csv"
   ]
  },
  {
   "cell_type": "code",
   "execution_count": 2,
   "metadata": {},
   "outputs": [],
   "source": [
    "#import csv\n",
    "df = pd.read_csv('updated_output.csv')"
   ]
  },
  {
   "cell_type": "code",
   "execution_count": 3,
   "metadata": {},
   "outputs": [
    {
     "data": {
      "text/html": [
       "<div>\n",
       "<style scoped>\n",
       "    .dataframe tbody tr th:only-of-type {\n",
       "        vertical-align: middle;\n",
       "    }\n",
       "\n",
       "    .dataframe tbody tr th {\n",
       "        vertical-align: top;\n",
       "    }\n",
       "\n",
       "    .dataframe thead th {\n",
       "        text-align: right;\n",
       "    }\n",
       "</style>\n",
       "<table border=\"1\" class=\"dataframe\">\n",
       "  <thead>\n",
       "    <tr style=\"text-align: right;\">\n",
       "      <th></th>\n",
       "      <th>airline</th>\n",
       "      <th>flight_id</th>\n",
       "      <th>dom_int</th>\n",
       "      <th>schedule_time</th>\n",
       "      <th>arr_dep</th>\n",
       "      <th>airport</th>\n",
       "    </tr>\n",
       "  </thead>\n",
       "  <tbody>\n",
       "    <tr>\n",
       "      <th>0</th>\n",
       "      <td>JUL</td>\n",
       "      <td>JUL2412</td>\n",
       "      <td>D</td>\n",
       "      <td>2023-12-14T08:00:00Z</td>\n",
       "      <td>D</td>\n",
       "      <td>JUL</td>\n",
       "    </tr>\n",
       "    <tr>\n",
       "      <th>1</th>\n",
       "      <td>BRR</td>\n",
       "      <td>BRR2412</td>\n",
       "      <td>D</td>\n",
       "      <td>2023-12-14T12:00:00Z</td>\n",
       "      <td>D</td>\n",
       "      <td>SYG</td>\n",
       "    </tr>\n",
       "    <tr>\n",
       "      <th>2</th>\n",
       "      <td>JUL</td>\n",
       "      <td>JUL2512</td>\n",
       "      <td>D</td>\n",
       "      <td>2023-12-14T16:00:00Z</td>\n",
       "      <td>D</td>\n",
       "      <td>JUL</td>\n",
       "    </tr>\n",
       "    <tr>\n",
       "      <th>3</th>\n",
       "      <td>JUL</td>\n",
       "      <td>JUL2412</td>\n",
       "      <td>D</td>\n",
       "      <td>2023-12-15T08:00:00Z</td>\n",
       "      <td>D</td>\n",
       "      <td>JUL</td>\n",
       "    </tr>\n",
       "    <tr>\n",
       "      <th>4</th>\n",
       "      <td>BRR</td>\n",
       "      <td>BRR2412</td>\n",
       "      <td>D</td>\n",
       "      <td>2023-12-15T12:00:00Z</td>\n",
       "      <td>D</td>\n",
       "      <td>SYG</td>\n",
       "    </tr>\n",
       "    <tr>\n",
       "      <th>...</th>\n",
       "      <td>...</td>\n",
       "      <td>...</td>\n",
       "      <td>...</td>\n",
       "      <td>...</td>\n",
       "      <td>...</td>\n",
       "      <td>...</td>\n",
       "    </tr>\n",
       "    <tr>\n",
       "      <th>391</th>\n",
       "      <td>DY</td>\n",
       "      <td>DY764</td>\n",
       "      <td>D</td>\n",
       "      <td>2023-12-20T16:50:00Z</td>\n",
       "      <td>D</td>\n",
       "      <td>TRD</td>\n",
       "    </tr>\n",
       "    <tr>\n",
       "      <th>392</th>\n",
       "      <td>WF</td>\n",
       "      <td>WF038</td>\n",
       "      <td>D</td>\n",
       "      <td>2023-12-20T16:50:00Z</td>\n",
       "      <td>D</td>\n",
       "      <td>RRS</td>\n",
       "    </tr>\n",
       "    <tr>\n",
       "      <th>393</th>\n",
       "      <td>DY</td>\n",
       "      <td>DY366</td>\n",
       "      <td>D</td>\n",
       "      <td>2023-12-20T16:55:00Z</td>\n",
       "      <td>D</td>\n",
       "      <td>EVE</td>\n",
       "    </tr>\n",
       "    <tr>\n",
       "      <th>394</th>\n",
       "      <td>DY</td>\n",
       "      <td>DY414</td>\n",
       "      <td>D</td>\n",
       "      <td>2023-12-20T17:00:00Z</td>\n",
       "      <td>D</td>\n",
       "      <td>AES</td>\n",
       "    </tr>\n",
       "    <tr>\n",
       "      <th>395</th>\n",
       "      <td>SN</td>\n",
       "      <td>SN2284</td>\n",
       "      <td>S</td>\n",
       "      <td>2023-12-20T17:00:00Z</td>\n",
       "      <td>D</td>\n",
       "      <td>BRU</td>\n",
       "    </tr>\n",
       "  </tbody>\n",
       "</table>\n",
       "<p>396 rows × 6 columns</p>\n",
       "</div>"
      ],
      "text/plain": [
       "    airline flight_id dom_int         schedule_time arr_dep airport\n",
       "0       JUL   JUL2412       D  2023-12-14T08:00:00Z       D     JUL\n",
       "1       BRR   BRR2412       D  2023-12-14T12:00:00Z       D     SYG\n",
       "2       JUL   JUL2512       D  2023-12-14T16:00:00Z       D     JUL\n",
       "3       JUL   JUL2412       D  2023-12-15T08:00:00Z       D     JUL\n",
       "4       BRR   BRR2412       D  2023-12-15T12:00:00Z       D     SYG\n",
       "..      ...       ...     ...                   ...     ...     ...\n",
       "391      DY     DY764       D  2023-12-20T16:50:00Z       D     TRD\n",
       "392      WF     WF038       D  2023-12-20T16:50:00Z       D     RRS\n",
       "393      DY     DY366       D  2023-12-20T16:55:00Z       D     EVE\n",
       "394      DY     DY414       D  2023-12-20T17:00:00Z       D     AES\n",
       "395      SN    SN2284       S  2023-12-20T17:00:00Z       D     BRU\n",
       "\n",
       "[396 rows x 6 columns]"
      ]
     },
     "execution_count": 3,
     "metadata": {},
     "output_type": "execute_result"
    }
   ],
   "source": [
    "df"
   ]
  },
  {
   "cell_type": "code",
   "execution_count": null,
   "metadata": {},
   "outputs": [],
   "source": [
    "indices_to_drop = []\n",
    "\n",
    "# Iterate over the DataFrame\n",
    "for index, row in df.iterrows():\n",
    "    if row['airline'] == 'JUL':\n",
    "        indices_to_drop.append(index)\n",
    "print(indices_to_drop)\n",
    "# Drop the rows with indices in indices_to_drop\n",
    "df.drop(indices_to_drop, inplace=True)"
   ]
  },
  {
   "cell_type": "code",
   "execution_count": null,
   "metadata": {},
   "outputs": [],
   "source": [
    "#lag denne mere dynamisk med en for loop\n",
    "df = df[df['airline'] != 'JUL']"
   ]
  },
  {
   "cell_type": "code",
   "execution_count": 10,
   "metadata": {},
   "outputs": [
    {
     "name": "stderr",
     "output_type": "stream",
     "text": [
      "C:\\Users\\HenrikØvergaard\\AppData\\Local\\Temp\\ipykernel_22280\\3509744903.py:4: SettingWithCopyWarning: \n",
      "A value is trying to be set on a copy of a slice from a DataFrame.\n",
      "Try using .loc[row_indexer,col_indexer] = value instead\n",
      "\n",
      "See the caveats in the documentation: https://pandas.pydata.org/pandas-docs/stable/user_guide/indexing.html#returning-a-view-versus-a-copy\n",
      "  df['schedule_time'] = df['schedule_time'].str.split('T').str[0]\n"
     ]
    }
   ],
   "source": [
    "def transform_df(df, airlines_to_remove):\n",
    "    excluded_airlines = airlines_to_remove  # Example list of airlines to exclude\n",
    "    df = df[~df['airline'].isin(excluded_airlines)]\n",
    "    df['schedule_time'] = df['schedule_time'].str.split('T').str[0]\n",
    "    return df\n",
    "airlines_to_remove = ['JUL']\n",
    "df = transform_df(df, airlines_to_remove)"
   ]
  },
  {
   "cell_type": "code",
   "execution_count": 14,
   "metadata": {},
   "outputs": [],
   "source": [
    "def dataframe_to_json(df, file_path):\n",
    "    df.to_json(file_path, orient='records', lines=False)"
   ]
  },
  {
   "cell_type": "code",
   "execution_count": 15,
   "metadata": {},
   "outputs": [],
   "source": [
    "dataframe_to_json(df, 'flights.json')"
   ]
  }
 ],
 "metadata": {
  "kernelspec": {
   "display_name": "Python 3",
   "language": "python",
   "name": "python3"
  },
  "language_info": {
   "codemirror_mode": {
    "name": "ipython",
    "version": 3
   },
   "file_extension": ".py",
   "mimetype": "text/x-python",
   "name": "python",
   "nbconvert_exporter": "python",
   "pygments_lexer": "ipython3",
   "version": "3.12.0"
  }
 },
 "nbformat": 4,
 "nbformat_minor": 2
}
