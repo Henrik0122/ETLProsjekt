{
 "cells": [
  {
   "cell_type": "code",
   "execution_count": 7,
   "metadata": {},
   "outputs": [],
   "source": [
    "import pandas as pd\n",
    "import numpy as np\n",
    "import json\n",
    "import csv"
   ]
  },
  {
   "cell_type": "code",
   "execution_count": 8,
   "metadata": {},
   "outputs": [],
   "source": [
    "#import csv\n",
    "df = pd.read_csv('updated_flights.csv')"
   ]
  },
  {
   "cell_type": "code",
   "execution_count": 9,
   "metadata": {},
   "outputs": [],
   "source": [
    "#lag denne mere dynamisk med en for loop\n",
    "df = df[df['airline'] != 'JUL']"
   ]
  },
  {
   "cell_type": "code",
   "execution_count": 10,
   "metadata": {},
   "outputs": [],
   "source": [
    "def transform_df(df, airlines_to_remove):\n",
    "    excluded_airlines = airlines_to_remove  # Example list of airlines to exclude\n",
    "    df = df[~df['airline'].isin(excluded_airlines)]\n",
    "    df['schedule_time'] = df['schedule_time'].str.split('T').str[0]\n",
    "    return df\n",
    "airlines_to_remove = ['JUL']\n",
    "df = transform_df(df, airlines_to_remove)"
   ]
  },
  {
   "cell_type": "code",
   "execution_count": 11,
   "metadata": {},
   "outputs": [],
   "source": [
    "def dataframe_to_json(df, file_path):\n",
    "    df.to_json(file_path, orient='records', lines=False)"
   ]
  },
  {
   "cell_type": "code",
   "execution_count": 12,
   "metadata": {},
   "outputs": [],
   "source": [
    "dataframe_to_json(df, 'silver/flights.json')"
   ]
  }
 ],
 "metadata": {
  "kernelspec": {
   "display_name": "Python 3",
   "language": "python",
   "name": "python3"
  },
  "language_info": {
   "codemirror_mode": {
    "name": "ipython",
    "version": 3
   },
   "file_extension": ".py",
   "mimetype": "text/x-python",
   "name": "python",
   "nbconvert_exporter": "python",
   "pygments_lexer": "ipython3",
   "version": "3.12.0"
  }
 },
 "nbformat": 4,
 "nbformat_minor": 2
}
