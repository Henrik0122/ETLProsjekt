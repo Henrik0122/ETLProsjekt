{
 "cells": [
  {
   "cell_type": "markdown",
   "metadata": {},
   "source": [
    "## ALL EXTRACT TIL SILVER I DENNE FILEN"
   ]
  },
  {
   "cell_type": "code",
   "execution_count": 55,
   "metadata": {},
   "outputs": [],
   "source": [
    "import pandas as pd\n",
    "import ast\n",
    "\n"
   ]
  },
  {
   "cell_type": "code",
   "execution_count": 56,
   "metadata": {},
   "outputs": [],
   "source": [
    "filepath_in = 'bronze/'\n",
    "filepath_out = 'silver/'"
   ]
  },
  {
   "cell_type": "code",
   "execution_count": 57,
   "metadata": {},
   "outputs": [
    {
     "name": "stdout",
     "output_type": "stream",
     "text": [
      "City: Rhodes\n",
      "Country:  Greece\n"
     ]
    },
    {
     "data": {
      "text/plain": [
       "list"
      ]
     },
     "execution_count": 57,
     "metadata": {},
     "output_type": "execute_result"
    }
   ],
   "source": [
    "filename_in = 'distance.csv'\n",
    "df = pd.read_csv(filepath_in+filename_in)\n",
    "\n",
    "df[\"destination_addresses\"]\n",
    "\n",
    "for elements in df['destination_addresses']:\n",
    "    values = elements.replace(\"'\", \"\").replace(\"[\", \"\").replace(\"]\", \"\").split(',')\n",
    "    destination_city, destination_country = values\n",
    "    print(\"City:\", destination_city)\n",
    "    print(\"Country:\", destination_country)\n",
    "\n",
    "\n",
    "ilist = ast.literal_eval(df[\"rows\"][0])\n",
    "\n",
    "type(ilist)"
   ]
  },
  {
   "cell_type": "code",
   "execution_count": 58,
   "metadata": {},
   "outputs": [
    {
     "name": "stdout",
     "output_type": "stream",
     "text": [
      "['Stavanger, Norway']\n"
     ]
    }
   ],
   "source": [
    "origin = ast.literal_eval(df[\"origin_addresses\"][0])\n",
    "\n",
    "print(origin)\n",
    "\n",
    "for i in origin:\n",
    "    new_origin = i.split(',')\n",
    "# origin_city, origin_destination = origin\n",
    "origin_city, origin_country = new_origin"
   ]
  },
  {
   "cell_type": "code",
   "execution_count": 59,
   "metadata": {},
   "outputs": [],
   "source": [
    "distance_text = ilist[0]['elements'][0]['distance']['text']\n",
    "distance_value = ilist[0]['elements'][0]['distance']['value']\n",
    "\n",
    "duration_text = ilist[0]['elements'][0]['duration']['text']\n",
    "duration_value = ilist[0]['elements'][0]['duration']['value']\n"
   ]
  },
  {
   "cell_type": "code",
   "execution_count": null,
   "metadata": {},
   "outputs": [],
   "source": []
  },
  {
   "cell_type": "code",
   "execution_count": 60,
   "metadata": {},
   "outputs": [],
   "source": [
    "def calc_CO2(distance, plane_dict):\n",
    "    liter_ton_register = plane_dict[\"liter_fuel_consumption_hour\"]/2832\n",
    "    speed_kmh = plane_dict[\"speed_kmh\"]\n",
    "    emission_factor = plane_dict[\"emission_factor\"]\n",
    "    \n",
    "    answer = ((distance/speed_kmh) * liter_ton_register) * emission_factor\n",
    "    return answer"
   ]
  },
  {
   "cell_type": "code",
   "execution_count": 61,
   "metadata": {},
   "outputs": [],
   "source": [
    "# plane = {\n",
    "#     \"model\":\"Boeing 73788\",\n",
    "#     \"liter_fuel_consumption_hour\": 3200,\n",
    "#     \"speed_kmh\": 875,\n",
    "#     \"emission_factor\": 3.10\n",
    "# }\n",
    "# data[\"plane_model\"] = plane[\"model\"]\n",
    "# distance = data[\"distance_value\"][0]\n",
    "# data[\"emissions\"] = calc_CO2(distance, plane)"
   ]
  },
  {
   "cell_type": "code",
   "execution_count": 62,
   "metadata": {},
   "outputs": [
    {
     "name": "stdout",
     "output_type": "stream",
     "text": [
      "{\"origin_city\":\"Stavanger\",\"origin_country\":\" Norway\",\"destination_city\":\"Rhodes\",\"destination_country\":\" Greece\",\"duration_text\":\"2 days 1 hour\",\"duration_value\":175461,\"distance_text\":\"4,233 km\",\"distance_value\":4232706,\"plane_model\":\"Boeing 737-88\",\"emissions\":16944.4889104116}\n",
      "{\"origin_city\":\"Stavanger\",\"origin_country\":\" Norway\",\"destination_city\":\"Rhodes\",\"destination_country\":\" Greece\",\"duration_text\":\"2 days 1 hour\",\"duration_value\":175461,\"distance_text\":\"4,233 km\",\"distance_value\":4232706,\"plane_model\":\"Airbus A320\",\"emissions\":16058.4534018683}\n",
      "{\"origin_city\":\"Stavanger\",\"origin_country\":\" Norway\",\"destination_city\":\"Rhodes\",\"destination_country\":\" Greece\",\"duration_text\":\"2 days 1 hour\",\"duration_value\":175461,\"distance_text\":\"4,233 km\",\"distance_value\":4232706,\"plane_model\":\"Boeing 747\",\"emissions\":18599.461393597}\n",
      "{\"origin_city\":\"Stavanger\",\"origin_country\":\" Norway\",\"destination_city\":\"Rhodes\",\"destination_country\":\" Greece\",\"duration_text\":\"2 days 1 hour\",\"duration_value\":175461,\"distance_text\":\"4,233 km\",\"distance_value\":4232706,\"plane_model\":\"Embraer E190\",\"emissions\":15561.4191176471}\n",
      "{\"origin_city\":\"Stavanger\",\"origin_country\":\" Norway\",\"destination_city\":\"Rhodes\",\"destination_country\":\" Greece\",\"duration_text\":\"2 days 1 hour\",\"duration_value\":175461,\"distance_text\":\"4,233 km\",\"distance_value\":4232706,\"plane_model\":\"Millennium Falcon\",\"emissions\":8896.4260492333}\n",
      "{\"origin_city\":\"Stavanger\",\"origin_country\":\" Norway\",\"destination_city\":\"Rhodes\",\"destination_country\":\" Greece\",\"duration_text\":\"2 days 1 hour\",\"duration_value\":175461,\"distance_text\":\"4,233 km\",\"distance_value\":4232706,\"plane_model\":\"Starship Enterprise\",\"emissions\":12736.5876934414}\n",
      "{\"origin_city\":\"Stavanger\",\"origin_country\":\" Norway\",\"destination_city\":\"Rhodes\",\"destination_country\":\" Greece\",\"duration_text\":\"2 days 1 hour\",\"duration_value\":175461,\"distance_text\":\"4,233 km\",\"distance_value\":4232706,\"plane_model\":\"Hot Air Balloon\",\"emissions\":373.6498940678}\n",
      "{\"origin_city\":\"Stavanger\",\"origin_country\":\" Norway\",\"destination_city\":\"Rhodes\",\"destination_country\":\" Greece\",\"duration_text\":\"2 days 1 hour\",\"duration_value\":175461,\"distance_text\":\"4,233 km\",\"distance_value\":4232706,\"plane_model\":\"Scooter One\",\"emissions\":8.3033309793}\n",
      "{\"origin_city\":\"Stavanger\",\"origin_country\":\" Norway\",\"destination_city\":\"Rhodes\",\"destination_country\":\" Greece\",\"duration_text\":\"2 days 1 hour\",\"duration_value\":175461,\"distance_text\":\"4,233 km\",\"distance_value\":4232706,\"plane_model\":\"Thunderbird 2\",\"emissions\":7472.9978813559}\n",
      "\n"
     ]
    }
   ],
   "source": [
    "# Create a DataFrame\n",
    "data = {\n",
    "    'origin_city': [origin_city],\n",
    "    'origin_country': [origin_country],\n",
    "    'destination_city': [destination_city],\n",
    "    'destination_country': [destination_country],\n",
    "    'duration_text': [duration_text],\n",
    "    'duration_value': [duration_value],\n",
    "    'distance_text': [distance_text],\n",
    "    'distance_value': [distance_value],\n",
    "}\n",
    "\n",
    "\n",
    "# Fictitious plane models\n",
    "planes = [\n",
    "    {\"model\": \"Boeing 737-88\", \"liter_fuel_consumption_hour\": 3200, \"speed_kmh\": 875, \"emission_factor\": 3.10},\n",
    "    {\"model\": \"Airbus A320\", \"liter_fuel_consumption_hour\": 3100, \"speed_kmh\": 880, \"emission_factor\": 3.05},\n",
    "    {\"model\": \"Boeing 747\", \"liter_fuel_consumption_hour\": 3500, \"speed_kmh\": 900, \"emission_factor\": 3.20},\n",
    "    {\"model\": \"Embraer E190\", \"liter_fuel_consumption_hour\": 3000, \"speed_kmh\": 850, \"emission_factor\": 2.95},\n",
    "    {\"model\": \"Millennium Falcon\", \"liter_fuel_consumption_hour\": 2500, \"speed_kmh\": 1050, \"emission_factor\": 2.50},\n",
    "    {\"model\": \"Starship Enterprise\", \"liter_fuel_consumption_hour\": 2800, \"speed_kmh\": 920, \"emission_factor\": 2.80},\n",
    "    {\"model\": \"Hot Air Balloon\", \"liter_fuel_consumption_hour\": 50, \"speed_kmh\": 20, \"emission_factor\": 0.10},\n",
    "    {\"model\": \"Fat Man On Unicycle\", \"liter_fuel_consumption_hour\": 5, \"speed_kmh\": 1, \"emission_factor\": 0.05},\n",
    "    {\"model\": \"Thunderbird 2\", \"liter_fuel_consumption_hour\": 2000, \"speed_kmh\": 800, \"emission_factor\": 2.00},\n",
    "]\n",
    "# Works for single plane\n",
    "\n",
    "\n",
    "# Create a new DataFrame for emissions data\n",
    "emissions_data = []\n",
    "\n",
    "# Calculate emissions for each plane and append to the DataFrame\n",
    "for plane in planes:\n",
    "    distance = data[\"distance_value\"][0]  # Use the same distance for all planes\n",
    "    emissions = calc_CO2(distance, plane)\n",
    "    emissions_data.append({\"plane_model\": plane[\"model\"], \"emissions\": emissions})\n",
    "\n",
    "df = pd.DataFrame(data)\n",
    "emissions_df = pd.DataFrame(emissions_data)\n",
    "\n",
    "\n",
    "# Duplicate rows in the base DataFrame based on the length of emissions DataFrame, to avoid null values, as there's nothing to join on\n",
    "df_duplicate = pd.concat([df] * len(emissions_df), ignore_index=True)\n",
    "\n",
    "# Concatenate the duplicated base DataFrame with emissions DataFrame\n",
    "df_to_silver = pd.concat([df_duplicate, emissions_df], axis=1)\n",
    "\n",
    "# Display the DataFrame\n",
    "print(df_to_silver.to_json(orient='records', lines=True))"
   ]
  },
  {
   "cell_type": "code",
   "execution_count": 63,
   "metadata": {},
   "outputs": [],
   "source": [
    "filename_out = \"distance.json\"\n",
    "df_to_silver.to_json(filepath_out+filename_out,orient='records', lines=False)"
   ]
  }
 ],
 "metadata": {
  "kernelspec": {
   "display_name": "Python 3",
   "language": "python",
   "name": "python3"
  },
  "language_info": {
   "codemirror_mode": {
    "name": "ipython",
    "version": 3
   },
   "file_extension": ".py",
   "mimetype": "text/x-python",
   "name": "python",
   "nbconvert_exporter": "python",
   "pygments_lexer": "ipython3",
   "version": "3.11.5"
  }
 },
 "nbformat": 4,
 "nbformat_minor": 2
}
