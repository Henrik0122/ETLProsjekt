{
 "cells": [
  {
   "cell_type": "markdown",
   "metadata": {},
   "source": [
    "## ALL EXTRACT TIL BRONZE I DENNE FILEN"
   ]
  },
  {
   "cell_type": "code",
   "execution_count": 14,
   "metadata": {},
   "outputs": [],
   "source": [
    "import requests\n",
    "import pandas as pd\n",
    "import json"
   ]
  },
  {
   "cell_type": "code",
   "execution_count": 18,
   "metadata": {},
   "outputs": [],
   "source": [
    "from get_api_key import get_api_key"
   ]
  },
  {
   "cell_type": "code",
   "execution_count": 19,
   "metadata": {},
   "outputs": [
    {
     "name": "stdout",
     "output_type": "stream",
     "text": [
      "{\"co2e\":4008.0,\"co2e_unit\":\"kg\",\"co2e_calculation_method\":\"ar4\",\"co2e_calculation_origin\":\"source\",\"emission_factor\":{\"name\":\"Electricity supplied from grid - residual mix\",\"activity_id\":\"electricity-supply_grid-source_residual_mix\",\"id\":\"eefd06c3-1c7a-447c-aaf5-fe958bfa470e\",\"access_type\":\"public\",\"source\":\"AIB\",\"source_dataset\":\"European Residual Mix\",\"year\":2022,\"region\":\"RS\",\"category\":\"Electricity\",\"source_lca_activity\":\"electricity_generation\",\"data_quality_flags\":[\"partial_factor\",\"notable_methodological_variance\"]},\"constituent_gases\":{\"co2e_total\":4008.0,\"co2e_other\":null,\"co2\":4008.0,\"ch4\":null,\"n2o\":null},\"activity_data\":{\"activity_value\":4200.0,\"activity_unit\":\"kWh\"},\"audit_trail\":\"selector\"}\n"
     ]
    }
   ],
   "source": [
    "# Replace 'YOUR_API_KEY' and 'API_ENDPOINT' with your actual API key and endpoint\n",
    "api_key = get_api_key(\"apikey.txt\")\n",
    "api_endpoint = 'https://beta4.api.climatiq.io/estimate'\n",
    "\n",
    "# Set up the headers with the API key\n",
    "headers = {\n",
    "    'Authorization': f'Bearer {api_key}',\n",
    "    'Content-Type': 'application/json',  # Specify the content type as JSON\n",
    "}\n",
    "\n",
    "# Define the payload data as a dictionary\n",
    "payload = {\n",
    "    \"emission_factor\": {\n",
    "        \"activity_id\": \"electricity-supply_grid-source_residual_mix\",\n",
    "        \"data_version\": \"^6\"\n",
    "    },\n",
    "    \"parameters\": {\n",
    "        \"energy\": 4200,\n",
    "        \"energy_unit\": \"kWh\"\n",
    "    }\n",
    "}\n",
    "\n",
    "# Make the API call using requests\n",
    "response = requests.post(api_endpoint, headers=headers, json=payload)\n",
    "\n",
    "# Print the response content\n",
    "print(response.text)\n",
    "\n"
   ]
  },
  {
   "cell_type": "code",
   "execution_count": 20,
   "metadata": {},
   "outputs": [],
   "source": [
    "dicto = response.json()"
   ]
  },
  {
   "cell_type": "code",
   "execution_count": 21,
   "metadata": {},
   "outputs": [
    {
     "name": "stdout",
     "output_type": "stream",
     "text": [
      "co2e\n",
      "co2e_unit\n",
      "co2e_calculation_method\n",
      "co2e_calculation_origin\n",
      "emission_factor\n",
      "constituent_gases\n",
      "activity_data\n",
      "audit_trail\n"
     ]
    }
   ],
   "source": [
    "for i in dicto:\n",
    "    print(i)"
   ]
  },
  {
   "cell_type": "code",
   "execution_count": null,
   "metadata": {},
   "outputs": [],
   "source": [
    "def display_dict_structure(dictionary, indent=0):\n",
    "    for key, value in dictionary.items():\n",
    "        print('  ' * indent + str(key))\n",
    "        if isinstance(value, dict):\n",
    "            display_dict_structure(value, indent + 1)\n",
    "        else:\n",
    "            print('  ' * (indent + 1) + str(value))\n",
    "\n",
    "\n",
    "display_dict_structure(dicto)"
   ]
  },
  {
   "cell_type": "code",
   "execution_count": 16,
   "metadata": {},
   "outputs": [
    {
     "name": "stdout",
     "output_type": "stream",
     "text": [
      "                       co2e co2e_unit co2e_calculation_method  \\\n",
      "name                 4008.0        kg                     ar4   \n",
      "activity_id          4008.0        kg                     ar4   \n",
      "id                   4008.0        kg                     ar4   \n",
      "access_type          4008.0        kg                     ar4   \n",
      "source               4008.0        kg                     ar4   \n",
      "source_dataset       4008.0        kg                     ar4   \n",
      "year                 4008.0        kg                     ar4   \n",
      "region               4008.0        kg                     ar4   \n",
      "category             4008.0        kg                     ar4   \n",
      "source_lca_activity  4008.0        kg                     ar4   \n",
      "data_quality_flags   4008.0        kg                     ar4   \n",
      "co2e_total           4008.0        kg                     ar4   \n",
      "co2e_other           4008.0        kg                     ar4   \n",
      "co2                  4008.0        kg                     ar4   \n",
      "ch4                  4008.0        kg                     ar4   \n",
      "n2o                  4008.0        kg                     ar4   \n",
      "activity_value       4008.0        kg                     ar4   \n",
      "activity_unit        4008.0        kg                     ar4   \n",
      "\n",
      "                    co2e_calculation_origin  \\\n",
      "name                                 source   \n",
      "activity_id                          source   \n",
      "id                                   source   \n",
      "access_type                          source   \n",
      "source                               source   \n",
      "source_dataset                       source   \n",
      "year                                 source   \n",
      "region                               source   \n",
      "category                             source   \n",
      "source_lca_activity                  source   \n",
      "data_quality_flags                   source   \n",
      "co2e_total                           source   \n",
      "co2e_other                           source   \n",
      "co2                                  source   \n",
      "ch4                                  source   \n",
      "n2o                                  source   \n",
      "activity_value                       source   \n",
      "activity_unit                        source   \n",
      "\n",
      "                                                       emission_factor  \\\n",
      "name                     Electricity supplied from grid - residual mix   \n",
      "activity_id                electricity-supply_grid-source_residual_mix   \n",
      "id                                eefd06c3-1c7a-447c-aaf5-fe958bfa470e   \n",
      "access_type                                                     public   \n",
      "source                                                             AIB   \n",
      "source_dataset                                   European Residual Mix   \n",
      "year                                                              2022   \n",
      "region                                                              RS   \n",
      "category                                                   Electricity   \n",
      "source_lca_activity                             electricity_generation   \n",
      "data_quality_flags   [partial_factor, notable_methodological_variance]   \n",
      "co2e_total                                                         NaN   \n",
      "co2e_other                                                         NaN   \n",
      "co2                                                                NaN   \n",
      "ch4                                                                NaN   \n",
      "n2o                                                                NaN   \n",
      "activity_value                                                     NaN   \n",
      "activity_unit                                                      NaN   \n",
      "\n",
      "                     constituent_gases activity_data audit_trail  \n",
      "name                               NaN           NaN    selector  \n",
      "activity_id                        NaN           NaN    selector  \n",
      "id                                 NaN           NaN    selector  \n",
      "access_type                        NaN           NaN    selector  \n",
      "source                             NaN           NaN    selector  \n",
      "source_dataset                     NaN           NaN    selector  \n",
      "year                               NaN           NaN    selector  \n",
      "region                             NaN           NaN    selector  \n",
      "category                           NaN           NaN    selector  \n",
      "source_lca_activity                NaN           NaN    selector  \n",
      "data_quality_flags                 NaN           NaN    selector  \n",
      "co2e_total                      4008.0           NaN    selector  \n",
      "co2e_other                         NaN           NaN    selector  \n",
      "co2                             4008.0           NaN    selector  \n",
      "ch4                                NaN           NaN    selector  \n",
      "n2o                                NaN           NaN    selector  \n",
      "activity_value                     NaN        4200.0    selector  \n",
      "activity_unit                      NaN           kWh    selector  \n"
     ]
    }
   ],
   "source": [
    "# Convert JSON string to dictionary\n",
    "# json_data = json.loads(dicto)\n",
    "\n",
    "# Convert dictionary to DataFrame\n",
    "df = pd.DataFrame(dicto)\n",
    "\n",
    "# Display the DataFrame\n",
    "print(df)"
   ]
  }
 ],
 "metadata": {
  "kernelspec": {
   "display_name": "Python 3",
   "language": "python",
   "name": "python3"
  },
  "language_info": {
   "codemirror_mode": {
    "name": "ipython",
    "version": 3
   },
   "file_extension": ".py",
   "mimetype": "text/x-python",
   "name": "python",
   "nbconvert_exporter": "python",
   "pygments_lexer": "ipython3",
   "version": "3.11.5"
  }
 },
 "nbformat": 4,
 "nbformat_minor": 2
}
