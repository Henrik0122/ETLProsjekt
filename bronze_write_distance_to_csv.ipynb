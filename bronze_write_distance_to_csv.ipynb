{
 "cells": [
  {
   "cell_type": "code",
   "execution_count": 4,
   "metadata": {},
   "outputs": [],
   "source": [
    "import json\n",
    "import requests\n",
    "import csv"
   ]
  },
  {
   "cell_type": "code",
   "execution_count": 5,
   "metadata": {},
   "outputs": [],
   "source": [
    "from get_api_key import get_api_key"
   ]
  },
  {
   "cell_type": "code",
   "execution_count": 8,
   "metadata": {},
   "outputs": [],
   "source": [
    "api_key = get_api_key(\"api_key_google.txt\")\n",
    "origin = 'Stavanger,Norway'\n",
    "destination = 'Rhodes,Greece'"
   ]
  },
  {
   "cell_type": "code",
   "execution_count": 9,
   "metadata": {},
   "outputs": [],
   "source": [
    "url = f'https://maps.googleapis.com/maps/api/distancematrix/json?origins={origin}&destinations={destination}&key={api_key}'\n",
    "response = requests.get(url)\n",
    "data = response.json()"
   ]
  },
  {
   "cell_type": "code",
   "execution_count": 10,
   "metadata": {},
   "outputs": [
    {
     "name": "stdout",
     "output_type": "stream",
     "text": [
      "destination_addresses ['Rhodes, Greece']\n",
      "origin_addresses ['Stavanger, Norway']\n",
      "rows [{'elements': [{'distance': {'text': '4,233 km', 'value': 4232706}, 'duration': {'text': '2 days 1 hour', 'value': 175485}, 'status': 'OK'}]}]\n",
      "status OK\n"
     ]
    }
   ],
   "source": [
    "for key,val in data.items():\n",
    "    print(key,val)"
   ]
  },
  {
   "cell_type": "markdown",
   "metadata": {},
   "source": [
    "orgin-land, orgin-by, destinasjon-land, destinasjon-by, distanse, lengde\n"
   ]
  },
  {
   "cell_type": "code",
   "execution_count": null,
   "metadata": {},
   "outputs": [],
   "source": [
    "# Struktur eksempel\n",
    "#distance = data['rows'][0]['elements'][0]['distance']['text']\n",
    "#duration = data['rows'][0]['elements'][0]['duration']['text']\n",
    "\n",
    "\n",
    "# print(data.keys())\n",
    "\n"
   ]
  },
  {
   "cell_type": "code",
   "execution_count": null,
   "metadata": {},
   "outputs": [],
   "source": [
    "filepath = \"bronze/distance.csv\"\n",
    "with open(filepath, 'w', newline='') as csv_file:\n",
    "    labels = data.keys()\n",
    "    csv_writer = csv.DictWriter(csv_file, fieldnames=labels)\n",
    "\n",
    "    csv_writer.writeheader()\n",
    "\n",
    "    # Now you can write the data rows\n",
    "    csv_writer.writerow(data)\n"
   ]
  }
 ],
 "metadata": {
  "kernelspec": {
   "display_name": "Python 3",
   "language": "python",
   "name": "python3"
  },
  "language_info": {
   "codemirror_mode": {
    "name": "ipython",
    "version": 3
   },
   "file_extension": ".py",
   "mimetype": "text/x-python",
   "name": "python",
   "nbconvert_exporter": "python",
   "pygments_lexer": "ipython3",
   "version": "3.11.5"
  }
 },
 "nbformat": 4,
 "nbformat_minor": 2
}
